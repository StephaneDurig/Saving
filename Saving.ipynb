{
 "cells": [
  {
   "cell_type": "markdown",
   "metadata": {},
   "source": [
    "# How much do you get for your savings ?"
   ]
  },
  {
   "attachments": {},
   "cell_type": "markdown",
   "metadata": {},
   "source": [
    "It is said that if Christopher Columbus had set aside €1 that he had left at 2% interest per year, today his heirs would no longer need to work to live their lives. Let's try to calculate the same thing for our savings. "
   ]
  },
  {
   "attachments": {},
   "cell_type": "markdown",
   "metadata": {},
   "source": [
    "1. So let's create a function that will allow us to know how much money a user will have in total after a certain number of years.\n",
    "\n",
    "2. The user should be able to call the function which will then ask for:\n",
    "\n",
    "    1. The total amount he wishes to place\n",
    "    2. The number of years he wants to invest his money for\n",
    "    3. The rate of interest to which he is entitled\n",
    "    \n",
    "3. Pay attention to the errors that the user may enter.\n",
    "\n",
    "    4. If he enters a string of characters rather than a number, an error should be displayed.\n",
    "    5. If the user enters negative numbers, an error should also be output.\n",
    "    6. Finally, it is very likely that the user will write the interest rate as a percentage (e.g. 10%). Raise an error if this is the case, to prevent him from inputting a percentage.\n",
    "    \n",
    "4. Finally, the program should only show one number with a maximum of two digits after the decimal point.\n"
   ]
  },
  {
   "cell_type": "code",
   "execution_count": 22,
   "metadata": {},
   "outputs": [],
   "source": [
    "def saving():\n",
    "    try:\n",
    "        OK=\"N\"\n",
    "        while OK.lower() != \"y\":\n",
    "            amount=float(input(\"What amount do you want to invest ?\"))\n",
    "            duration=float(input(\"For how long do you want to invest your money ?\"))\n",
    "            rate=float(input(\"What is the rate of return of your investment ? (in percentage : 0,1 -> 10 %)\"))\n",
    "            prate=rate*100\n",
    "            OK=input(f\"You want to invest {amount} $ for {duration} years at a rate of {prate} % - Confirm (Y/N)\")\n",
    "        print(f\"You want to invest {amount} $ for {duration} years at a rate of {prate} %\\n\")\n",
    "\n",
    "    except ValueError:\n",
    "            raise ValueError(\"You must answer with numbers !!\")\n",
    "    else:\n",
    "        if amount<0 or duration<0 or rate<0 :\n",
    "             raise ValueError(\"You entered one or more negative numbers.\\n You must give positive numbers !!\")\n",
    "        if rate>1:\n",
    "             raise ValueError(\"You must enter a number between 0 and 1 (0.1 -> 10%)\")\n",
    "        total=amount*(1+rate)**duration\n",
    "        print(f\"Votre gain sera de {round(total-amount,2)} $.\\nA l'issue de cette période vous aurez donc {round(total,2)} $.\")\n",
    " \n",
    "             \n",
    "         "
   ]
  },
  {
   "cell_type": "code",
   "execution_count": 29,
   "metadata": {},
   "outputs": [
    {
     "name": "stdout",
     "output_type": "stream",
     "text": [
      "You want to invest 1000.0 $ for 10.0 years at a rate of 10.0 %\n",
      "\n",
      "Votre gain sera de 1593.74 $.\n",
      "A l'issue de cette période vous aurez donc 2593.74 $.\n"
     ]
    }
   ],
   "source": [
    "saving()"
   ]
  }
 ],
 "metadata": {
  "kernelspec": {
   "display_name": "base",
   "language": "python",
   "name": "python3"
  },
  "language_info": {
   "codemirror_mode": {
    "name": "ipython",
    "version": 3
   },
   "file_extension": ".py",
   "mimetype": "text/x-python",
   "name": "python",
   "nbconvert_exporter": "python",
   "pygments_lexer": "ipython3",
   "version": "3.9.13"
  },
  "orig_nbformat": 4
 },
 "nbformat": 4,
 "nbformat_minor": 2
}
